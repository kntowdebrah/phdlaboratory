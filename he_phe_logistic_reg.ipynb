{
 "cells": [
  {
   "cell_type": "code",
   "execution_count": 14,
   "metadata": {},
   "outputs": [],
   "source": [
    "##HOMOMORPHIC ENCRYPTION - PARTIAL HOMOMORPHIC - PAILLIER \n",
    "\n",
    "import numpy as np \n",
    "import pandas as pd\n",
    "from phe import paillier\n",
    "from sklearn.linear_model import LogisticRegression\n",
    "from sklearn.datasets import load_breast_cancer\n",
    "from sklearn.model_selection import train_test_split\n",
    "from sklearn.metrics import accuracy_score, classification_report, confusion_matrix"
   ]
  },
  {
   "cell_type": "code",
   "execution_count": 2,
   "metadata": {},
   "outputs": [],
   "source": [
    "#Load dataset\n",
    "data = load_breast_cancer()\n",
    "X, y = data.data, data.target"
   ]
  },
  {
   "cell_type": "code",
   "execution_count": 3,
   "metadata": {},
   "outputs": [],
   "source": [
    "#Split data\n",
    "X_train, X_test, y_train, y_test = train_test_split(X, y,test_size=0.2, random_state=42 )"
   ]
  },
  {
   "cell_type": "code",
   "execution_count": null,
   "metadata": {},
   "outputs": [],
   "source": [
    "#Train Logistic Regression Model\n",
    "logreg = LogisticRegression(max_iter=500)\n",
    "logreg.fit(X_train,y_train)"
   ]
  },
  {
   "cell_type": "code",
   "execution_count": 5,
   "metadata": {},
   "outputs": [],
   "source": [
    "#Using the model to predict\n",
    "y_pred = logreg.predict(X_test)"
   ]
  },
  {
   "cell_type": "code",
   "execution_count": 6,
   "metadata": {},
   "outputs": [
    {
     "name": "stdout",
     "output_type": "stream",
     "text": [
      "Accuracy 0.956140350877193\n",
      "classification_report: \n",
      "               precision    recall  f1-score   support\n",
      "\n",
      "           0       0.97      0.91      0.94        43\n",
      "           1       0.95      0.99      0.97        71\n",
      "\n",
      "    accuracy                           0.96       114\n",
      "   macro avg       0.96      0.95      0.95       114\n",
      "weighted avg       0.96      0.96      0.96       114\n",
      "\n",
      "confusion_matrix: \n",
      " [[39  4]\n",
      " [ 1 70]]\n"
     ]
    }
   ],
   "source": [
    "#Evaluate the performance\n",
    "accuracy = accuracy_score(y_test, y_pred)\n",
    "print('Accuracy', accuracy)\n",
    "\n",
    "#Detailed classification report\n",
    "print('classification_report: \\n', classification_report(y_test, y_pred))\n",
    "\n",
    "#Show confusion matrix \n",
    "print('confusion_matrix: \\n', confusion_matrix(y_test, y_pred))"
   ]
  },
  {
   "cell_type": "code",
   "execution_count": 7,
   "metadata": {},
   "outputs": [],
   "source": [
    "#Extract model parameters\n",
    "weights = logreg.coef_[0] #Coefficients\n",
    "bias = logreg.intercept_[0] #Bias"
   ]
  },
  {
   "cell_type": "code",
   "execution_count": 8,
   "metadata": {},
   "outputs": [],
   "source": [
    "#Generate paillier key pair\n",
    "public_key, private_key = paillier.generate_paillier_keypair()\n",
    "\n",
    "#Appy sigmoid function\n",
    "def sigmoid(x):\n",
    "    return 1/(1 + np.exp(-x))"
   ]
  },
  {
   "cell_type": "code",
   "execution_count": 13,
   "metadata": {},
   "outputs": [
    {
     "data": {
      "text/plain": [
       "array([[1.247e+01, 1.860e+01, 8.109e+01, ..., 1.015e-01, 3.014e-01,\n",
       "        8.750e-02],\n",
       "       [1.894e+01, 2.131e+01, 1.236e+02, ..., 1.789e-01, 2.551e-01,\n",
       "        6.589e-02],\n",
       "       [1.546e+01, 1.948e+01, 1.017e+02, ..., 1.514e-01, 2.837e-01,\n",
       "        8.019e-02],\n",
       "       ...,\n",
       "       [1.152e+01, 1.493e+01, 7.387e+01, ..., 9.608e-02, 2.664e-01,\n",
       "        7.809e-02],\n",
       "       [1.422e+01, 2.785e+01, 9.255e+01, ..., 8.219e-02, 1.890e-01,\n",
       "        7.796e-02],\n",
       "       [2.073e+01, 3.112e+01, 1.357e+02, ..., 1.659e-01, 2.868e-01,\n",
       "        8.218e-02]])"
      ]
     },
     "execution_count": 13,
     "metadata": {},
     "output_type": "execute_result"
    }
   ],
   "source": [
    "X_test"
   ]
  },
  {
   "cell_type": "code",
   "execution_count": null,
   "metadata": {},
   "outputs": [],
   "source": [
    "#Encrypt a test sample(first row in X_test)\n",
    "encrypted_test = []\n",
    "\n",
    "def encrypt_machine_learning(xtest,threshold):\n",
    "    for element in xtest:\n",
    "    \n",
    "        encrypted_sample = [public_key.encrypt(x) for x in element]\n",
    "\n",
    "        #Compute encrypted dot product\n",
    "        encrypted_sum = sum(w*x for w, x in zip(weights, encrypted_sample)) + bias\n",
    "        \n",
    "        #decrypt the sum\n",
    "        decrypted_sum = private_key.decrypt(encrypted_sum)\n",
    "\n",
    "        #compute probability\n",
    "        prob = sigmoid(decrypted_sum)\n",
    "\n",
    "        #predicted class\n",
    "        predicted_class = (1 if prob > threshold else 0)\n",
    "\n",
    "        encrypted_test.append(predicted_class)\n",
    "        print(f'decrypted probability: {prob:.4f}')\n",
    "\n",
    "    return encrypted_test\n",
    "\n"
   ]
  },
  {
   "cell_type": "code",
   "execution_count": null,
   "metadata": {},
   "outputs": [
    {
     "name": "stdout",
     "output_type": "stream",
     "text": [
      "decrypted probability: 0.8360\n",
      "decrypted probability: 0.0000\n",
      "decrypted probability: 0.0014\n",
      "decrypted probability: 0.9972\n",
      "decrypted probability: 0.9994\n",
      "decrypted probability: 0.0000\n",
      "decrypted probability: 0.0000\n",
      "decrypted probability: 0.0098\n",
      "decrypted probability: 0.9976\n",
      "decrypted probability: 0.9885\n",
      "decrypted probability: 0.9381\n",
      "decrypted probability: 0.0005\n",
      "decrypted probability: 0.9904\n",
      "decrypted probability: 0.2276\n",
      "decrypted probability: 0.9978\n",
      "decrypted probability: 0.0011\n",
      "decrypted probability: 0.9976\n",
      "decrypted probability: 0.9997\n",
      "decrypted probability: 0.9985\n",
      "decrypted probability: 0.0000\n",
      "decrypted probability: 0.8637\n",
      "decrypted probability: 0.9881\n",
      "decrypted probability: 0.0000\n",
      "decrypted probability: 0.9947\n",
      "decrypted probability: 0.9885\n",
      "decrypted probability: 0.9996\n",
      "decrypted probability: 0.9976\n",
      "decrypted probability: 0.9903\n",
      "decrypted probability: 0.9935\n",
      "decrypted probability: 0.0000\n",
      "decrypted probability: 0.9928\n",
      "decrypted probability: 0.9990\n",
      "decrypted probability: 0.9781\n",
      "decrypted probability: 0.9787\n",
      "decrypted probability: 0.9982\n",
      "decrypted probability: 0.9948\n",
      "decrypted probability: 0.0024\n",
      "decrypted probability: 0.9952\n",
      "decrypted probability: 0.0000\n",
      "decrypted probability: 0.7713\n",
      "decrypted probability: 0.9975\n",
      "decrypted probability: 0.0009\n",
      "decrypted probability: 0.9982\n",
      "decrypted probability: 0.9872\n",
      "decrypted probability: 0.9989\n",
      "decrypted probability: 0.9375\n",
      "decrypted probability: 0.9985\n",
      "decrypted probability: 0.9878\n",
      "decrypted probability: 0.9040\n",
      "decrypted probability: 0.9967\n",
      "decrypted probability: 0.0000\n",
      "decrypted probability: 0.0000\n",
      "decrypted probability: 0.8834\n",
      "decrypted probability: 0.9995\n",
      "decrypted probability: 0.9980\n",
      "decrypted probability: 0.9753\n",
      "decrypted probability: 0.9978\n",
      "decrypted probability: 0.0000\n",
      "decrypted probability: 0.6894\n",
      "decrypted probability: 0.9996\n",
      "decrypted probability: 0.9818\n",
      "decrypted probability: 0.0000\n",
      "decrypted probability: 0.0000\n",
      "decrypted probability: 0.9139\n",
      "decrypted probability: 0.9955\n",
      "decrypted probability: 0.8364\n",
      "decrypted probability: 0.0000\n",
      "decrypted probability: 0.0000\n",
      "decrypted probability: 0.9983\n",
      "decrypted probability: 0.9723\n",
      "decrypted probability: 0.0274\n",
      "decrypted probability: 0.0000\n",
      "decrypted probability: 0.9978\n",
      "decrypted probability: 0.1154\n",
      "decrypted probability: 0.9605\n",
      "decrypted probability: 0.9978\n",
      "decrypted probability: 0.9596\n",
      "decrypted probability: 0.5644\n",
      "decrypted probability: 0.9983\n",
      "decrypted probability: 0.9962\n",
      "decrypted probability: 0.0009\n",
      "decrypted probability: 0.9973\n",
      "decrypted probability: 0.6749\n",
      "decrypted probability: 0.0000\n",
      "decrypted probability: 0.0008\n",
      "decrypted probability: 0.0522\n",
      "decrypted probability: 0.0011\n",
      "decrypted probability: 0.0000\n",
      "decrypted probability: 0.9920\n",
      "decrypted probability: 0.9957\n",
      "decrypted probability: 0.9853\n",
      "decrypted probability: 0.9061\n",
      "decrypted probability: 0.9040\n",
      "decrypted probability: 0.9973\n",
      "decrypted probability: 0.9987\n",
      "decrypted probability: 0.9968\n",
      "decrypted probability: 0.0000\n",
      "decrypted probability: 0.0000\n",
      "decrypted probability: 0.9997\n",
      "decrypted probability: 0.0001\n",
      "decrypted probability: 0.0001\n",
      "decrypted probability: 0.9998\n",
      "decrypted probability: 0.0000\n",
      "decrypted probability: 0.0011\n",
      "decrypted probability: 0.8985\n",
      "decrypted probability: 0.9341\n",
      "decrypted probability: 0.9878\n",
      "decrypted probability: 0.0000\n",
      "decrypted probability: 0.9759\n",
      "decrypted probability: 0.8957\n",
      "decrypted probability: 0.0002\n",
      "decrypted probability: 0.9966\n",
      "decrypted probability: 0.2562\n",
      "decrypted probability: 0.0000\n"
     ]
    }
   ],
   "source": [
    "he_X_test = encrypt_machine_learning(X_test, threshold=0.7)\n",
    "np."
   ]
  },
  {
   "cell_type": "code",
   "execution_count": 11,
   "metadata": {},
   "outputs": [
    {
     "name": "stdout",
     "output_type": "stream",
     "text": [
      "Accuracy: 0.956140350877193\n"
     ]
    }
   ],
   "source": [
    "print('Accuracy:', accuracy_score(y_test, he_X_test))"
   ]
  },
  {
   "cell_type": "code",
   "execution_count": 12,
   "metadata": {},
   "outputs": [
    {
     "name": "stdout",
     "output_type": "stream",
     "text": [
      "Accuracy 0.956140350877193\n",
      "classification_report: \n",
      "               precision    recall  f1-score   support\n",
      "\n",
      "           0       0.97      0.91      0.94        43\n",
      "           1       0.95      0.99      0.97        71\n",
      "\n",
      "    accuracy                           0.96       114\n",
      "   macro avg       0.96      0.95      0.95       114\n",
      "weighted avg       0.96      0.96      0.96       114\n",
      "\n",
      "confusion_matrix: \n",
      " [[39  4]\n",
      " [ 1 70]]\n"
     ]
    }
   ],
   "source": [
    "#Evaluate the performance\n",
    "accuracy = accuracy_score(y_test, he_X_test)\n",
    "print('Accuracy', accuracy)\n",
    "\n",
    "#Detailed classification report\n",
    "print('classification_report: \\n', classification_report(y_test, he_X_test))\n",
    "\n",
    "#Show confusion matrix \n",
    "print('confusion_matrix: \\n', confusion_matrix(y_test, he_X_test))"
   ]
  },
  {
   "cell_type": "code",
   "execution_count": null,
   "metadata": {},
   "outputs": [],
   "source": []
  }
 ],
 "metadata": {
  "kernelspec": {
   "display_name": "pyqtvirtual",
   "language": "python",
   "name": "python3"
  },
  "language_info": {
   "codemirror_mode": {
    "name": "ipython",
    "version": 3
   },
   "file_extension": ".py",
   "mimetype": "text/x-python",
   "name": "python",
   "nbconvert_exporter": "python",
   "pygments_lexer": "ipython3",
   "version": "3.12.4"
  }
 },
 "nbformat": 4,
 "nbformat_minor": 2
}
