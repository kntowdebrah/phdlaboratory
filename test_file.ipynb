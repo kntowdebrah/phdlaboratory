{
 "cells": [
  {
   "cell_type": "code",
   "execution_count": 1,
   "id": "954ab6ff",
   "metadata": {},
   "outputs": [],
   "source": [
    "import numpy as np\n",
    "\n",
    "class LogisticRegression:\n",
    "    def __init__(self, learning_rate=0.01, epochs=1000):\n",
    "        self.learning_rate = learning_rate\n",
    "        self.epochs = epochs\n",
    "        self.weights = None\n",
    "        self.bias = None\n",
    "\n",
    "    def sigmoid(self, z):\n",
    "        return 1 / (1 + np.exp(-z))\n",
    "\n",
    "    def train(self, X, y):\n",
    "        n_samples, n_features = X.shape\n",
    "        self.weights = np.zeros(n_features)\n",
    "        self.bias = 0\n",
    "\n",
    "        for epoch in range(self.epochs):\n",
    "            # Linear model\n",
    "            linear_output = np.dot(X, self.weights) + self.bias\n",
    "            # Activation\n",
    "            y_predicted = self.sigmoid(linear_output)\n",
    "\n",
    "            # Gradients\n",
    "            dw = (1 / n_samples) * np.dot(X.T, (y_predicted - y))\n",
    "            db = (1 / n_samples) * np.sum(y_predicted - y)\n",
    "\n",
    "            # Update weights\n",
    "            self.weights -= self.learning_rate * dw\n",
    "            self.bias -= self.learning_rate * db\n",
    "\n",
    "            if (epoch + 1) % 100 == 0:\n",
    "                loss = -np.mean(y * np.log(y_predicted + 1e-15) + (1 - y) * np.log(1 - y_predicted + 1e-15))\n",
    "                print(f\"Epoch {epoch + 1}/{self.epochs}, Loss: {loss:.4f}\")\n",
    "\n",
    "    def predict_prob(self, X):\n",
    "        linear_output = np.dot(X, self.weights) + self.bias\n",
    "        return self.sigmoid(linear_output)\n",
    "\n",
    "    def predict(self, X):\n",
    "        prob = self.predict_prob(X)\n",
    "        return (prob >= 0.5).astype(int)\n"
   ]
  },
  {
   "cell_type": "code",
   "execution_count": 2,
   "id": "ca897593",
   "metadata": {},
   "outputs": [
    {
     "name": "stdout",
     "output_type": "stream",
     "text": [
      "Epoch 100/1000, Loss: 0.3452\n",
      "Epoch 200/1000, Loss: 0.3042\n",
      "Epoch 300/1000, Loss: 0.2901\n",
      "Epoch 400/1000, Loss: 0.2836\n",
      "Epoch 500/1000, Loss: 0.2801\n",
      "Epoch 600/1000, Loss: 0.2781\n",
      "Epoch 700/1000, Loss: 0.2769\n",
      "Epoch 800/1000, Loss: 0.2761\n",
      "Epoch 900/1000, Loss: 0.2756\n",
      "Epoch 1000/1000, Loss: 0.2752\n",
      "Test Accuracy: 93.67%\n"
     ]
    }
   ],
   "source": [
    "# Generate synthetic linearly separable data\n",
    "from sklearn.datasets import make_classification\n",
    "from sklearn.model_selection import train_test_split\n",
    "from sklearn.preprocessing import StandardScaler\n",
    "\n",
    "X, y = make_classification(n_samples=1000, n_features=2, n_redundant=0,\n",
    "                           n_informative=2, random_state=1, n_clusters_per_class=1)\n",
    "scaler = StandardScaler()\n",
    "X = scaler.fit_transform(X)\n",
    "y = y.astype(np.float64)\n",
    "\n",
    "X_train, X_test, y_train, y_test = train_test_split(X, y, test_size=0.3, random_state=42)\n",
    "\n",
    "# Train the model\n",
    "model = LogisticRegression(learning_rate=0.1, epochs=1000)\n",
    "model.train(X_train, y_train)\n",
    "\n",
    "# Evaluate\n",
    "y_pred = model.predict(X_test)\n",
    "accuracy = np.mean(y_pred == y_test)\n",
    "print(f\"Test Accuracy: {accuracy * 100:.2f}%\")\n"
   ]
  }
 ],
 "metadata": {
  "kernelspec": {
   "display_name": "pyqtvirtual",
   "language": "python",
   "name": "python3"
  },
  "language_info": {
   "codemirror_mode": {
    "name": "ipython",
    "version": 3
   },
   "file_extension": ".py",
   "mimetype": "text/x-python",
   "name": "python",
   "nbconvert_exporter": "python",
   "pygments_lexer": "ipython3",
   "version": "3.12.4"
  }
 },
 "nbformat": 4,
 "nbformat_minor": 5
}
