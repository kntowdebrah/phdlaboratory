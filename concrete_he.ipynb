{
 "cells": [
  {
   "cell_type": "code",
   "execution_count": 2,
   "id": "00776592",
   "metadata": {},
   "outputs": [
    {
     "name": "stdout",
     "output_type": "stream",
     "text": [
      "Collecting concrete-ml\n",
      "  Using cached concrete_ml-1.9.0-py3-none-any.whl.metadata (18 kB)\n",
      "Collecting brevitas==0.10.2 (from concrete-ml)\n",
      "  Using cached brevitas-0.10.2-py3-none-any.whl.metadata (7.6 kB)\n",
      "INFO: pip is looking at multiple versions of concrete-ml to determine which version is compatible with other requirements. This could take a while.\n",
      "Collecting concrete-ml\n",
      "  Using cached concrete_ml-1.8.0-py3-none-any.whl.metadata (18 kB)\n",
      "  Downloading concrete_ml-1.7.0-py3-none-any.whl.metadata (17 kB)\n",
      "  Downloading concrete_ml-1.6.1-py3-none-any.whl.metadata (17 kB)\n",
      "Collecting brevitas==0.8.0 (from concrete-ml)\n",
      "  Downloading brevitas-0.8.0-py3-none-any.whl.metadata (6.1 kB)\n",
      "Collecting concrete-ml\n",
      "  Downloading concrete_ml-1.6.0-py3-none-any.whl.metadata (17 kB)\n",
      "  Downloading concrete_ml-1.5.0-py3-none-any.whl.metadata (16 kB)\n",
      "Requirement already satisfied: boto3<2.0.0,>=1.23.5 in c:\\users\\kwabe\\onedrive\\knad datascience\\training\\python training\\pyqtvirtual\\lib\\site-packages (from concrete-ml) (1.34.56)\n",
      "Collecting certifi==2023.07.22 (from concrete-ml)\n",
      "  Downloading certifi-2023.7.22-py3-none-any.whl.metadata (2.2 kB)\n",
      "Collecting concrete-ml\n",
      "  Downloading concrete_ml-1.4.1-py3-none-any.whl.metadata (13 kB)\n",
      "  Downloading concrete_ml-1.4.0-py3-none-any.whl.metadata (12 kB)\n",
      "INFO: pip is still looking at multiple versions of concrete-ml to determine which version is compatible with other requirements. This could take a while.\n",
      "  Downloading concrete_ml-1.3.0-py3-none-any.whl.metadata (12 kB)\n",
      "  Downloading concrete_ml-1.2.1-py3-none-any.whl.metadata (12 kB)\n",
      "  Downloading concrete_ml-1.2.0-py3-none-any.whl.metadata (12 kB)\n",
      "  Downloading concrete_ml-1.1.0-py3-none-any.whl.metadata (12 kB)\n",
      "  Downloading concrete_ml-1.0.3-py3-none-any.whl.metadata (11 kB)\n",
      "INFO: This is taking longer than usual. You might need to provide the dependency resolver with stricter constraints to reduce runtime. See https://pip.pypa.io/warnings/backtracking for guidance. If you want to abort this run, press Ctrl + C.\n",
      "  Downloading concrete_ml-1.0.2-py3-none-any.whl.metadata (11 kB)\n",
      "  Downloading concrete_ml-1.0.1-py3-none-any.whl.metadata (11 kB)\n",
      "  Downloading concrete_ml-1.0.0-py3-none-any.whl.metadata (11 kB)\n",
      "  Downloading concrete_ml-0.6.1-py3-none-any.whl.metadata (2.3 kB)\n",
      "Collecting concrete-ml-extensions-brevitas==0.1.0 (from concrete-ml)\n",
      "  Downloading concrete_ml_extensions_brevitas-0.1.0-py3-none-any.whl.metadata (27 kB)\n",
      "Collecting concrete-numpy==0.9.0 (from concrete-ml)\n",
      "  Downloading concrete_numpy-0.9.0-py3-none-any.whl.metadata (7.5 kB)\n",
      "Collecting hummingbird-ml==0.4.4 (from hummingbird-ml[onnx]==0.4.4->concrete-ml)\n",
      "  Downloading hummingbird_ml-0.4.4-py2.py3-none-any.whl.metadata (10 kB)\n",
      "Collecting numpy==1.21.6 (from concrete-ml)\n",
      "  Downloading numpy-1.21.6.zip (10.3 MB)\n",
      "     ---------------------------------------- 0.0/10.3 MB ? eta -:--:--\n",
      "     -------------- ------------------------- 3.7/10.3 MB 24.3 MB/s eta 0:00:01\n",
      "     --------------------------------------- 10.3/10.3 MB 27.9 MB/s eta 0:00:00\n",
      "  Installing build dependencies: started\n",
      "  Installing build dependencies: finished with status 'done'\n",
      "  Getting requirements to build wheel: started\n",
      "  Getting requirements to build wheel: finished with status 'error'\n",
      "Note: you may need to restart the kernel to use updated packages.\n"
     ]
    },
    {
     "name": "stderr",
     "output_type": "stream",
     "text": [
      "WARNING: Ignoring invalid distribution ~atplotlib (c:\\Users\\kwabe\\OneDrive\\KNAD DATASCIENCE\\TRAINING\\PYTHON TRAINING\\pyqtvirtual\\Lib\\site-packages)\n",
      "  error: subprocess-exited-with-error\n",
      "  \n",
      "  × Getting requirements to build wheel did not run successfully.\n",
      "  │ exit code: 1\n",
      "  ╰─> [33 lines of output]\n",
      "      Traceback (most recent call last):\n",
      "        File \"c:\\Users\\kwabe\\OneDrive\\KNAD DATASCIENCE\\TRAINING\\PYTHON TRAINING\\pyqtvirtual\\Lib\\site-packages\\pip\\_vendor\\pyproject_hooks\\_in_process\\_in_process.py\", line 389, in <module>\n",
      "          main()\n",
      "        File \"c:\\Users\\kwabe\\OneDrive\\KNAD DATASCIENCE\\TRAINING\\PYTHON TRAINING\\pyqtvirtual\\Lib\\site-packages\\pip\\_vendor\\pyproject_hooks\\_in_process\\_in_process.py\", line 373, in main\n",
      "          json_out[\"return_val\"] = hook(**hook_input[\"kwargs\"])\n",
      "                                   ^^^^^^^^^^^^^^^^^^^^^^^^^^^^\n",
      "        File \"c:\\Users\\kwabe\\OneDrive\\KNAD DATASCIENCE\\TRAINING\\PYTHON TRAINING\\pyqtvirtual\\Lib\\site-packages\\pip\\_vendor\\pyproject_hooks\\_in_process\\_in_process.py\", line 137, in get_requires_for_build_wheel\n",
      "          backend = _build_backend()\n",
      "                    ^^^^^^^^^^^^^^^^\n",
      "        File \"c:\\Users\\kwabe\\OneDrive\\KNAD DATASCIENCE\\TRAINING\\PYTHON TRAINING\\pyqtvirtual\\Lib\\site-packages\\pip\\_vendor\\pyproject_hooks\\_in_process\\_in_process.py\", line 70, in _build_backend\n",
      "          obj = import_module(mod_path)\n",
      "                ^^^^^^^^^^^^^^^^^^^^^^^\n",
      "        File \"C:\\Users\\kwabe\\AppData\\Local\\Programs\\Python\\Python312\\Lib\\importlib\\__init__.py\", line 90, in import_module\n",
      "          return _bootstrap._gcd_import(name[level:], package, level)\n",
      "                 ^^^^^^^^^^^^^^^^^^^^^^^^^^^^^^^^^^^^^^^^^^^^^^^^^^^^\n",
      "        File \"<frozen importlib._bootstrap>\", line 1387, in _gcd_import\n",
      "        File \"<frozen importlib._bootstrap>\", line 1360, in _find_and_load\n",
      "        File \"<frozen importlib._bootstrap>\", line 1310, in _find_and_load_unlocked\n",
      "        File \"<frozen importlib._bootstrap>\", line 488, in _call_with_frames_removed\n",
      "        File \"<frozen importlib._bootstrap>\", line 1387, in _gcd_import\n",
      "        File \"<frozen importlib._bootstrap>\", line 1360, in _find_and_load\n",
      "        File \"<frozen importlib._bootstrap>\", line 1331, in _find_and_load_unlocked\n",
      "        File \"<frozen importlib._bootstrap>\", line 935, in _load_unlocked\n",
      "        File \"<frozen importlib._bootstrap_external>\", line 995, in exec_module\n",
      "        File \"<frozen importlib._bootstrap>\", line 488, in _call_with_frames_removed\n",
      "        File \"C:\\Users\\kwabe\\AppData\\Local\\Temp\\pip-build-env-bc_kktsc\\overlay\\Lib\\site-packages\\setuptools\\__init__.py\", line 16, in <module>\n",
      "          import setuptools.version\n",
      "        File \"C:\\Users\\kwabe\\AppData\\Local\\Temp\\pip-build-env-bc_kktsc\\overlay\\Lib\\site-packages\\setuptools\\version.py\", line 1, in <module>\n",
      "          import pkg_resources\n",
      "        File \"C:\\Users\\kwabe\\AppData\\Local\\Temp\\pip-build-env-bc_kktsc\\overlay\\Lib\\site-packages\\pkg_resources\\__init__.py\", line 2172, in <module>\n",
      "          register_finder(pkgutil.ImpImporter, find_on_path)\n",
      "                          ^^^^^^^^^^^^^^^^^^^\n",
      "      AttributeError: module 'pkgutil' has no attribute 'ImpImporter'. Did you mean: 'zipimporter'?\n",
      "      [end of output]\n",
      "  \n",
      "  note: This error originates from a subprocess, and is likely not a problem with pip.\n",
      "\n",
      "[notice] A new release of pip is available: 24.3.1 -> 25.0.1\n",
      "[notice] To update, run: python.exe -m pip install --upgrade pip\n",
      "error: subprocess-exited-with-error\n",
      "\n",
      "× Getting requirements to build wheel did not run successfully.\n",
      "│ exit code: 1\n",
      "╰─> See above for output.\n",
      "\n",
      "note: This error originates from a subprocess, and is likely not a problem with pip.\n"
     ]
    }
   ],
   "source": [
    "pip install  --ignore-requires-python concrete-ml"
   ]
  },
  {
   "cell_type": "code",
   "execution_count": 2,
   "id": "550d1b57",
   "metadata": {},
   "outputs": [
    {
     "ename": "ModuleNotFoundError",
     "evalue": "No module named 'concrete'",
     "output_type": "error",
     "traceback": [
      "\u001b[1;31m---------------------------------------------------------------------------\u001b[0m",
      "\u001b[1;31mModuleNotFoundError\u001b[0m                       Traceback (most recent call last)",
      "Cell \u001b[1;32mIn[2], line 1\u001b[0m\n\u001b[1;32m----> 1\u001b[0m \u001b[38;5;28;01mimport\u001b[39;00m \u001b[38;5;21;01mconcrete\u001b[39;00m\u001b[38;5;21;01m.\u001b[39;00m\u001b[38;5;21;01mml\u001b[39;00m \u001b[38;5;28;01mas\u001b[39;00m \u001b[38;5;21;01mcml\u001b[39;00m\n",
      "\u001b[1;31mModuleNotFoundError\u001b[0m: No module named 'concrete'"
     ]
    }
   ],
   "source": [
    "import concrete.ml as cml"
   ]
  }
 ],
 "metadata": {
  "kernelspec": {
   "display_name": "pyqtvirtual",
   "language": "python",
   "name": "python3"
  },
  "language_info": {
   "codemirror_mode": {
    "name": "ipython",
    "version": 3
   },
   "file_extension": ".py",
   "mimetype": "text/x-python",
   "name": "python",
   "nbconvert_exporter": "python",
   "pygments_lexer": "ipython3",
   "version": "3.12.4"
  }
 },
 "nbformat": 4,
 "nbformat_minor": 5
}
