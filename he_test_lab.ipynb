{
 "cells": [
  {
   "cell_type": "code",
   "execution_count": 1,
   "metadata": {},
   "outputs": [
    {
     "name": "stdout",
     "output_type": "stream",
     "text": [
      "Requirement already satisfied: phe in c:\\users\\ntowdebrah\\.virtualenvs\\myvirtualenv\\lib\\site-packages (1.5.0)\n",
      "Note: you may need to restart the kernel to use updated packages.\n"
     ]
    }
   ],
   "source": [
    "pip install phe"
   ]
  },
  {
   "cell_type": "code",
   "execution_count": 3,
   "metadata": {},
   "outputs": [
    {
     "name": "stdout",
     "output_type": "stream",
     "text": [
      "PHE Results:\n",
      "Original numbers: 5 and 3\n",
      "Encrypted sum: 8\n",
      "Encrypted product with scalar 2: 10\n"
     ]
    }
   ],
   "source": [
    "from phe import paillier\n",
    "\n",
    "def phe_example():\n",
    "    #Generate public and private keys\n",
    "    public_key, private_key = paillier.generate_paillier_keypair()\n",
    "    \n",
    "    #Encrypt two numbers\n",
    "    a, b = 5, 3\n",
    "    encrypted_a = public_key.encrypt(a)\n",
    "    encrypted_b = public_key.encrypt(b)\n",
    "    \n",
    "    #Perform homomorphic addition\n",
    "    encrypted_sum = encrypted_a + encrypted_b\n",
    "    decrypted_sum = private_key.decrypt(encrypted_sum)\n",
    "    \n",
    "    #Perform homomorphic multiplication by a scalar\n",
    "    scalar = 2\n",
    "    encrypted_product = encrypted_a * scalar \n",
    "    decrypted_product = private_key.decrypt(encrypted_product)\n",
    "    \n",
    "    print(\"PHE Results:\")\n",
    "    print(f'Original numbers: {a} and {b}')\n",
    "    print(f'Encrypted sum: {decrypted_sum}')\n",
    "    print(f'Encrypted product with scalar {scalar}: {decrypted_product}')\n",
    "    \n",
    "    \n",
    "\n",
    "phe_example()\n",
    "    "
   ]
  }
 ],
 "metadata": {
  "kernelspec": {
   "display_name": "myvirtualenv",
   "language": "python",
   "name": "python3"
  },
  "language_info": {
   "codemirror_mode": {
    "name": "ipython",
    "version": 3
   },
   "file_extension": ".py",
   "mimetype": "text/x-python",
   "name": "python",
   "nbconvert_exporter": "python",
   "pygments_lexer": "ipython3",
   "version": "3.11.9"
  }
 },
 "nbformat": 4,
 "nbformat_minor": 2
}
